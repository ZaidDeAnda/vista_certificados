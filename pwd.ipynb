{
 "cells": [
  {
   "cell_type": "code",
   "execution_count": 4,
   "metadata": {},
   "outputs": [],
   "source": [
    "from utils.config import Config\n",
    "from utils.database import get_mongo_client_debug\n",
    "\n",
    "config = Config()\n",
    "\n",
    "client = get_mongo_client_debug(config)\n",
    "db = client.certificados\n",
    "certificados_collection = db.certificados"
   ]
  },
  {
   "cell_type": "code",
   "execution_count": 5,
   "metadata": {},
   "outputs": [
    {
     "name": "stderr",
     "output_type": "stream",
     "text": [
      "C:\\Users\\zaid_\\AppData\\Local\\Temp\\ipykernel_16284\\4283560969.py:8: DeprecationWarning: insert is deprecated. Use insert_one or insert_many instead.\n",
      "  certificados_collection.insert(\n"
     ]
    }
   ],
   "source": [
    "import os\n",
    "import secrets\n",
    "import string\n",
    "\n",
    "for file in os.listdir(\"Assets/Reconocimientos 87/\"):\n",
    "    alphabet = string.ascii_letters + string.digits\n",
    "    password = ''.join(secrets.choice(alphabet) for i in range(20))\n",
    "    certificados_collection.insert(\n",
    "        {\n",
    "            \"donante\" : file,\n",
    "            \"pwd\" : password\n",
    "        }\n",
    "    )"
   ]
  },
  {
   "cell_type": "code",
   "execution_count": null,
   "metadata": {},
   "outputs": [],
   "source": []
  }
 ],
 "metadata": {
  "kernelspec": {
   "display_name": "nl-env",
   "language": "python",
   "name": "python3"
  },
  "language_info": {
   "codemirror_mode": {
    "name": "ipython",
    "version": 3
   },
   "file_extension": ".py",
   "mimetype": "text/x-python",
   "name": "python",
   "nbconvert_exporter": "python",
   "pygments_lexer": "ipython3",
   "version": "3.10.12"
  },
  "orig_nbformat": 4
 },
 "nbformat": 4,
 "nbformat_minor": 2
}
